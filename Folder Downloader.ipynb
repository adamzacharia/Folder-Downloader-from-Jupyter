{
 "cells": [
  {
   "cell_type": "code",
   "execution_count": 1,
   "id": "c25912b3",
   "metadata": {},
   "outputs": [
    {
     "name": "stdout",
     "output_type": "stream",
     "text": [
      "The folder 'Adam Minor Project' has been zipped successfully to 'Adam_Minor_Project.zip'.\n"
     ]
    }
   ],
   "source": [
    "import zipfile\n",
    "import os\n",
    "\n",
    "def zip_folder(folder_path, zip_path):\n",
    "    \n",
    "    with zipfile.ZipFile(zip_path, 'w', zipfile.ZIP_DEFLATED) as zipf:\n",
    "        for root, _, files in os.walk(folder_path):\n",
    "            for file in files:\n",
    "                zipf.write(os.path.join(root, file), os.path.relpath(os.path.join(root, file), folder_path))\n",
    "\n",
    "# Define folder path and zip path\n",
    "folder_to_zip = 'xyz' \n",
    "zip_file_path = 'xyz.zip'\n",
    "\n",
    "\n",
    "zip_folder(folder_to_zip, zip_file_path)\n",
    "\n",
    "print(f\"The folder '{folder_to_zip}' has been zipped successfully to '{zip_file_path}'.\")\n"
   ]
  }
 ],
 "metadata": {
  "kernelspec": {
   "display_name": "Python 3 (ipykernel)",
   "language": "python",
   "name": "python3"
  },
  "language_info": {
   "codemirror_mode": {
    "name": "ipython",
    "version": 3
   },
   "file_extension": ".py",
   "mimetype": "text/x-python",
   "name": "python",
   "nbconvert_exporter": "python",
   "pygments_lexer": "ipython3",
   "version": "3.7.12"
  }
 },
 "nbformat": 4,
 "nbformat_minor": 5
}
